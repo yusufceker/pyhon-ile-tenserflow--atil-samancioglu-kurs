{
 "cells": [
  {
   "cell_type": "code",
   "execution_count": 2,
   "id": "7390f092",
   "metadata": {},
   "outputs": [],
   "source": [
    "benimListem = [10,20,30,40]"
   ]
  },
  {
   "cell_type": "code",
   "execution_count": 7,
   "id": "cbd00148",
   "metadata": {},
   "outputs": [
    {
     "data": {
      "text/plain": [
       "list"
      ]
     },
     "execution_count": 7,
     "metadata": {},
     "output_type": "execute_result"
    }
   ],
   "source": [
    "type(benimListem)"
   ]
  },
  {
   "cell_type": "code",
   "execution_count": 8,
   "id": "85c18d86",
   "metadata": {},
   "outputs": [],
   "source": [
    "benimListem.append(50) # 50'yi ekler"
   ]
  },
  {
   "cell_type": "code",
   "execution_count": 9,
   "id": "5cc63ef3",
   "metadata": {},
   "outputs": [
    {
     "data": {
      "text/plain": [
       "[10, 20, 30, 40, 50]"
      ]
     },
     "execution_count": 9,
     "metadata": {},
     "output_type": "execute_result"
    }
   ],
   "source": [
    "benimListem"
   ]
  },
  {
   "cell_type": "code",
   "execution_count": 3,
   "id": "0ebf2486",
   "metadata": {},
   "outputs": [
    {
     "data": {
      "text/plain": [
       "40"
      ]
     },
     "execution_count": 3,
     "metadata": {},
     "output_type": "execute_result"
    }
   ],
   "source": [
    "benimListem.pop()"
   ]
  },
  {
   "cell_type": "code",
   "execution_count": 4,
   "id": "6e710484",
   "metadata": {},
   "outputs": [
    {
     "data": {
      "text/plain": [
       "[10, 20, 30]"
      ]
     },
     "execution_count": 4,
     "metadata": {},
     "output_type": "execute_result"
    }
   ],
   "source": [
    "benimListem"
   ]
  },
  {
   "cell_type": "code",
   "execution_count": 6,
   "id": "5351a432",
   "metadata": {},
   "outputs": [],
   "source": [
    "benimListem.remove(10)"
   ]
  },
  {
   "cell_type": "code",
   "execution_count": 7,
   "id": "c3f40e29",
   "metadata": {},
   "outputs": [
    {
     "data": {
      "text/plain": [
       "[20, 30]"
      ]
     },
     "execution_count": 7,
     "metadata": {},
     "output_type": "execute_result"
    }
   ],
   "source": [
    "benimListem"
   ]
  },
  {
   "cell_type": "code",
   "execution_count": 8,
   "id": "754db052",
   "metadata": {},
   "outputs": [
    {
     "data": {
      "text/plain": [
       "1"
      ]
     },
     "execution_count": 8,
     "metadata": {},
     "output_type": "execute_result"
    }
   ],
   "source": [
    "benimListem.count(20)"
   ]
  },
  {
   "cell_type": "code",
   "execution_count": 9,
   "id": "e8ea0a56",
   "metadata": {},
   "outputs": [],
   "source": [
    "benimListem.append(20)"
   ]
  },
  {
   "cell_type": "code",
   "execution_count": 10,
   "id": "3f65fe62",
   "metadata": {},
   "outputs": [
    {
     "data": {
      "text/plain": [
       "2"
      ]
     },
     "execution_count": 10,
     "metadata": {},
     "output_type": "execute_result"
    }
   ],
   "source": [
    "benimListem.count(20)  # bu listede kaç tane 20 var? "
   ]
  },
  {
   "cell_type": "code",
   "execution_count": 11,
   "id": "d204bd81",
   "metadata": {},
   "outputs": [
    {
     "data": {
      "text/plain": [
       "0"
      ]
     },
     "execution_count": 11,
     "metadata": {},
     "output_type": "execute_result"
    }
   ],
   "source": [
    "benimListem.index(20)"
   ]
  },
  {
   "cell_type": "code",
   "execution_count": 12,
   "id": "cc46bee7",
   "metadata": {},
   "outputs": [],
   "source": [
    "benimStringListem = [\"yusuf\",\"asaf\",\"emrah\"]"
   ]
  },
  {
   "cell_type": "code",
   "execution_count": 14,
   "id": "53455d55",
   "metadata": {},
   "outputs": [
    {
     "data": {
      "text/plain": [
       "'emrah'"
      ]
     },
     "execution_count": 14,
     "metadata": {},
     "output_type": "execute_result"
    }
   ],
   "source": [
    "benimStringListem[2]"
   ]
  },
  {
   "cell_type": "code",
   "execution_count": 15,
   "id": "68c5a1d7",
   "metadata": {},
   "outputs": [],
   "source": [
    "benimDigerListem = [\"gülhan\",\"fatma\",\"zahide\"]"
   ]
  },
  {
   "cell_type": "code",
   "execution_count": 16,
   "id": "34ac1bf1",
   "metadata": {},
   "outputs": [],
   "source": [
    "benimToplamaListem = benimStringListem + benimDigerListem"
   ]
  },
  {
   "cell_type": "code",
   "execution_count": 17,
   "id": "b6f90b8e",
   "metadata": {},
   "outputs": [
    {
     "data": {
      "text/plain": [
       "['yusuf', 'asaf', 'emrah', 'gülhan', 'fatma', 'zahide']"
      ]
     },
     "execution_count": 17,
     "metadata": {},
     "output_type": "execute_result"
    }
   ],
   "source": [
    "benimToplamaListem"
   ]
  },
  {
   "cell_type": "code",
   "execution_count": 20,
   "id": "cc8bbb83",
   "metadata": {},
   "outputs": [
    {
     "data": {
      "text/plain": [
       "['yusuf',\n",
       " 'asaf',\n",
       " 'emrah',\n",
       " 'yusuf',\n",
       " 'asaf',\n",
       " 'emrah',\n",
       " 'yusuf',\n",
       " 'asaf',\n",
       " 'emrah',\n",
       " 'yusuf',\n",
       " 'asaf',\n",
       " 'emrah',\n",
       " 'yusuf',\n",
       " 'asaf',\n",
       " 'emrah']"
      ]
     },
     "execution_count": 20,
     "metadata": {},
     "output_type": "execute_result"
    }
   ],
   "source": [
    "benimStringListem * 5 "
   ]
  },
  {
   "cell_type": "code",
   "execution_count": 21,
   "id": "5d3539c1",
   "metadata": {},
   "outputs": [],
   "source": [
    "benimToplamaListem.reverse()  # tam tersini yazdırıyor..."
   ]
  },
  {
   "cell_type": "code",
   "execution_count": 22,
   "id": "663102be",
   "metadata": {},
   "outputs": [
    {
     "data": {
      "text/plain": [
       "['zahide', 'fatma', 'gülhan', 'emrah', 'asaf', 'yusuf']"
      ]
     },
     "execution_count": 22,
     "metadata": {},
     "output_type": "execute_result"
    }
   ],
   "source": [
    "benimToplamaListem"
   ]
  },
  {
   "cell_type": "code",
   "execution_count": 23,
   "id": "423dd251",
   "metadata": {},
   "outputs": [],
   "source": [
    "karisikListe = [1,2,3.5,\"yusuf\",9]"
   ]
  },
  {
   "cell_type": "code",
   "execution_count": 24,
   "id": "57fe9d62",
   "metadata": {},
   "outputs": [
    {
     "data": {
      "text/plain": [
       "list"
      ]
     },
     "execution_count": 24,
     "metadata": {},
     "output_type": "execute_result"
    }
   ],
   "source": [
    "type(karisikListe)"
   ]
  },
  {
   "cell_type": "code",
   "execution_count": 27,
   "id": "8747e93f",
   "metadata": {},
   "outputs": [],
   "source": [
    "sonucum = karisikListe[3]"
   ]
  },
  {
   "cell_type": "code",
   "execution_count": 28,
   "id": "6005ad60",
   "metadata": {},
   "outputs": [
    {
     "data": {
      "text/plain": [
       "str"
      ]
     },
     "execution_count": 28,
     "metadata": {},
     "output_type": "execute_result"
    }
   ],
   "source": [
    "type(sonucum)"
   ]
  },
  {
   "cell_type": "code",
   "execution_count": 29,
   "id": "a7d20faa",
   "metadata": {},
   "outputs": [],
   "source": [
    "nestedList = [1,5,\"yusuf\",4,[6,\"asaf\"]] #listenin içine liste konulabiliyor"
   ]
  },
  {
   "cell_type": "code",
   "execution_count": 30,
   "id": "032bd670",
   "metadata": {},
   "outputs": [
    {
     "data": {
      "text/plain": [
       "[1, 5, 'yusuf', 4, [6, 'asaf']]"
      ]
     },
     "execution_count": 30,
     "metadata": {},
     "output_type": "execute_result"
    }
   ],
   "source": [
    "nestedList"
   ]
  },
  {
   "cell_type": "code",
   "execution_count": 31,
   "id": "545655e7",
   "metadata": {},
   "outputs": [
    {
     "data": {
      "text/plain": [
       "[6, 'asaf']"
      ]
     },
     "execution_count": 31,
     "metadata": {},
     "output_type": "execute_result"
    }
   ],
   "source": [
    "nestedList[4]"
   ]
  },
  {
   "cell_type": "code",
   "execution_count": 39,
   "id": "ddac61ed",
   "metadata": {},
   "outputs": [],
   "source": [
    "MyNewList = nestedList[4][1]"
   ]
  },
  {
   "cell_type": "code",
   "execution_count": 40,
   "id": "08a6ce74",
   "metadata": {},
   "outputs": [
    {
     "data": {
      "text/plain": [
       "'asaf'"
      ]
     },
     "execution_count": 40,
     "metadata": {},
     "output_type": "execute_result"
    }
   ],
   "source": [
    "MyNewList"
   ]
  },
  {
   "cell_type": "code",
   "execution_count": 44,
   "id": "440328e7",
   "metadata": {},
   "outputs": [],
   "source": [
    "karmasikListe = [[1,2,3,[\"a\",\"b\"],50],40,20,[\"asaf\",5.5],[3,[\"a\"]]]"
   ]
  },
  {
   "cell_type": "code",
   "execution_count": 51,
   "id": "327c9170",
   "metadata": {},
   "outputs": [],
   "source": [
    "zkarmasikListe = karmasikListe[0][3][1]"
   ]
  },
  {
   "cell_type": "code",
   "execution_count": 52,
   "id": "6e2ec99b",
   "metadata": {},
   "outputs": [
    {
     "data": {
      "text/plain": [
       "'b'"
      ]
     },
     "execution_count": 52,
     "metadata": {},
     "output_type": "execute_result"
    }
   ],
   "source": [
    "zkarmasikListe"
   ]
  },
  {
   "cell_type": "code",
   "execution_count": 55,
   "id": "ccdf1b32",
   "metadata": {},
   "outputs": [
    {
     "data": {
      "text/plain": [
       "[1, 5]"
      ]
     },
     "execution_count": 55,
     "metadata": {},
     "output_type": "execute_result"
    }
   ],
   "source": [
    "nestedList[:2]"
   ]
  },
  {
   "cell_type": "code",
   "execution_count": null,
   "id": "21e82934",
   "metadata": {},
   "outputs": [],
   "source": []
  }
 ],
 "metadata": {
  "kernelspec": {
   "display_name": "Python 3 (ipykernel)",
   "language": "python",
   "name": "python3"
  },
  "language_info": {
   "codemirror_mode": {
    "name": "ipython",
    "version": 3
   },
   "file_extension": ".py",
   "mimetype": "text/x-python",
   "name": "python",
   "nbconvert_exporter": "python",
   "pygments_lexer": "ipython3",
   "version": "3.9.12"
  }
 },
 "nbformat": 4,
 "nbformat_minor": 5
}
