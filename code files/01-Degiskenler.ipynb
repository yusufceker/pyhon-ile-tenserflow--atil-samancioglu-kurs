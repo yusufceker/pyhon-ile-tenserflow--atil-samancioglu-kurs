{
 "cells": [
  {
   "cell_type": "code",
   "execution_count": 10,
   "id": "f36baaf6",
   "metadata": {},
   "outputs": [],
   "source": [
    "y = 5"
   ]
  },
  {
   "cell_type": "code",
   "execution_count": 9,
   "id": "2f609004",
   "metadata": {},
   "outputs": [],
   "source": [
    "x = 4"
   ]
  },
  {
   "cell_type": "code",
   "execution_count": 6,
   "id": "fc308405",
   "metadata": {
    "scrolled": true
   },
   "outputs": [
    {
     "data": {
      "text/plain": [
       "20"
      ]
     },
     "execution_count": 6,
     "metadata": {},
     "output_type": "execute_result"
    }
   ],
   "source": [
    "x * y"
   ]
  },
  {
   "cell_type": "code",
   "execution_count": 7,
   "id": "79dc6bd6",
   "metadata": {},
   "outputs": [
    {
     "name": "stdout",
     "output_type": "stream",
     "text": [
      "5\n"
     ]
    }
   ],
   "source": [
    "print(y)"
   ]
  },
  {
   "cell_type": "code",
   "execution_count": 12,
   "id": "55380da4",
   "metadata": {},
   "outputs": [
    {
     "name": "stdout",
     "output_type": "stream",
     "text": [
      "9\n"
     ]
    }
   ],
   "source": [
    "print(y + x)"
   ]
  },
  {
   "cell_type": "code",
   "execution_count": 13,
   "id": "88d695c5",
   "metadata": {},
   "outputs": [
    {
     "name": "stdout",
     "output_type": "stream",
     "text": [
      "1\n"
     ]
    }
   ],
   "source": [
    "print(y - x)"
   ]
  },
  {
   "cell_type": "code",
   "execution_count": 14,
   "id": "8bf028e9",
   "metadata": {},
   "outputs": [],
   "source": [
    "benimDegiskenim = 10\n",
    "benimDigerDegiskenim = 20"
   ]
  },
  {
   "cell_type": "code",
   "execution_count": 15,
   "id": "ada86581",
   "metadata": {},
   "outputs": [
    {
     "data": {
      "text/plain": [
       "30"
      ]
     },
     "execution_count": 15,
     "metadata": {},
     "output_type": "execute_result"
    }
   ],
   "source": [
    "benimDegiskenim + benimDigerDegiskenim"
   ]
  },
  {
   "cell_type": "code",
   "execution_count": 16,
   "id": "71699dc1",
   "metadata": {},
   "outputs": [
    {
     "data": {
      "text/plain": [
       "int"
      ]
     },
     "execution_count": 16,
     "metadata": {},
     "output_type": "execute_result"
    }
   ],
   "source": [
    "type(benimDegiskenim)"
   ]
  },
  {
   "cell_type": "code",
   "execution_count": 18,
   "id": "aa06873d",
   "metadata": {},
   "outputs": [],
   "source": [
    " sonuc = benimDigerDegiskenim / benimDegiskenim"
   ]
  },
  {
   "cell_type": "code",
   "execution_count": 19,
   "id": "7b2ac5d1",
   "metadata": {},
   "outputs": [
    {
     "data": {
      "text/plain": [
       "float"
      ]
     },
     "execution_count": 19,
     "metadata": {},
     "output_type": "execute_result"
    }
   ],
   "source": [
    "type(sonuc)"
   ]
  },
  {
   "cell_type": "code",
   "execution_count": 27,
   "id": "9d972b0b",
   "metadata": {},
   "outputs": [
    {
     "name": "stdout",
     "output_type": "stream",
     "text": [
      "Yaşınızı Giriniz: 11\n",
      "Yaşınız 11.\n"
     ]
    }
   ],
   "source": [
    "yas = input(\"Yaşınızı Giriniz: \")              #deneme yaptım :)\n",
    "print(f\"Yaşınız {yas}.\")                        "
   ]
  },
  {
   "cell_type": "code",
   "execution_count": 28,
   "id": "66f9cfbe",
   "metadata": {},
   "outputs": [],
   "source": [
    "y = \"string\""
   ]
  },
  {
   "cell_type": "code",
   "execution_count": 29,
   "id": "c8e8aa25",
   "metadata": {},
   "outputs": [
    {
     "data": {
      "text/plain": [
       "'String'"
      ]
     },
     "execution_count": 29,
     "metadata": {},
     "output_type": "execute_result"
    }
   ],
   "source": [
    "y.capitalize()  # ilk harfini büyük yazar."
   ]
  },
  {
   "cell_type": "code",
   "execution_count": 30,
   "id": "04492f94",
   "metadata": {},
   "outputs": [
    {
     "data": {
      "text/plain": [
       "['string']"
      ]
     },
     "execution_count": 30,
     "metadata": {},
     "output_type": "execute_result"
    }
   ],
   "source": [
    "y.split()        # stringi bölür."
   ]
  },
  {
   "cell_type": "code",
   "execution_count": 31,
   "id": "50e85470",
   "metadata": {},
   "outputs": [
    {
     "data": {
      "text/plain": [
       "6"
      ]
     },
     "execution_count": 31,
     "metadata": {},
     "output_type": "execute_result"
    }
   ],
   "source": [
    "len(y)    # kaç harfli olduğunu söyler."
   ]
  },
  {
   "cell_type": "code",
   "execution_count": 33,
   "id": "6e5909ec",
   "metadata": {},
   "outputs": [
    {
     "name": "stdout",
     "output_type": "stream",
     "text": [
      "merhaba \n",
      "python\n"
     ]
    }
   ],
   "source": [
    "print(\"merhaba \\npython\")  # satır kaydırır."
   ]
  },
  {
   "cell_type": "code",
   "execution_count": 34,
   "id": "7a51916e",
   "metadata": {},
   "outputs": [],
   "source": [
    "isimString = \"Yusuf Çeker\""
   ]
  },
  {
   "cell_type": "code",
   "execution_count": 35,
   "id": "398ab259",
   "metadata": {},
   "outputs": [
    {
     "data": {
      "text/plain": [
       "'Y'"
      ]
     },
     "execution_count": 35,
     "metadata": {},
     "output_type": "execute_result"
    }
   ],
   "source": [
    "isimString[0]  # 0. indexi gösterir."
   ]
  },
  {
   "cell_type": "code",
   "execution_count": 45,
   "id": "6bfcafb2",
   "metadata": {},
   "outputs": [],
   "source": [
    "harfString = \"abcdefgh\""
   ]
  },
  {
   "cell_type": "code",
   "execution_count": 43,
   "id": "9f45710f",
   "metadata": {},
   "outputs": [
    {
     "data": {
      "text/plain": [
       "'abc'"
      ]
     },
     "execution_count": 43,
     "metadata": {},
     "output_type": "execute_result"
    }
   ],
   "source": [
    "harfString[:3] # ilk üç harfi alır."
   ]
  },
  {
   "cell_type": "code",
   "execution_count": 47,
   "id": "00ddcec9",
   "metadata": {},
   "outputs": [
    {
     "data": {
      "text/plain": [
       "'ace'"
      ]
     },
     "execution_count": 47,
     "metadata": {},
     "output_type": "execute_result"
    }
   ],
   "source": [
    "harfString[::2]  # bastan baslayarak sona kadar ikiser ikiser gider."
   ]
  },
  {
   "cell_type": "code",
   "execution_count": 49,
   "id": "41c0b7e4",
   "metadata": {},
   "outputs": [
    {
     "data": {
      "text/plain": [
       "'ef'"
      ]
     },
     "execution_count": 49,
     "metadata": {},
     "output_type": "execute_result"
    }
   ],
   "source": [
    "harfString[-2:] # son iki harfi söyler."
   ]
  },
  {
   "cell_type": "code",
   "execution_count": 50,
   "id": "a8f6e588",
   "metadata": {},
   "outputs": [],
   "source": [
    "gelenVeri = \"AhmetinYasi65\""
   ]
  },
  {
   "cell_type": "code",
   "execution_count": 52,
   "id": "3b44de73",
   "metadata": {},
   "outputs": [
    {
     "data": {
      "text/plain": [
       "'Amtnai5'"
      ]
     },
     "execution_count": 52,
     "metadata": {},
     "output_type": "execute_result"
    }
   ],
   "source": [
    "gelenVeri[::2] # bastan baslayarak ikiser ikiser sona kadar gider."
   ]
  },
  {
   "cell_type": "code",
   "execution_count": 53,
   "id": "fe385eac",
   "metadata": {},
   "outputs": [
    {
     "data": {
      "text/plain": [
       "'56isaYnitemhA'"
      ]
     },
     "execution_count": 53,
     "metadata": {},
     "output_type": "execute_result"
    }
   ],
   "source": [
    "gelenVeri[::-1]  #tersten yazar :)"
   ]
  },
  {
   "cell_type": "code",
   "execution_count": 55,
   "id": "fa8a887e",
   "metadata": {},
   "outputs": [],
   "source": [
    "benimIsmim = \"yusuf\""
   ]
  },
  {
   "cell_type": "code",
   "execution_count": 56,
   "id": "ade34a62",
   "metadata": {},
   "outputs": [],
   "source": [
    "benimSoyIsmim = \"ceker\""
   ]
  },
  {
   "cell_type": "code",
   "execution_count": 57,
   "id": "59ddb369",
   "metadata": {},
   "outputs": [
    {
     "data": {
      "text/plain": [
       "'yusuf ceker'"
      ]
     },
     "execution_count": 57,
     "metadata": {},
     "output_type": "execute_result"
    }
   ],
   "source": [
    "benimIsmim + \" \" + benimSoyIsmim #arasına boşluk koyar."
   ]
  },
  {
   "cell_type": "code",
   "execution_count": null,
   "id": "e98018bc",
   "metadata": {},
   "outputs": [],
   "source": []
  }
 ],
 "metadata": {
  "kernelspec": {
   "display_name": "Python 3 (ipykernel)",
   "language": "python",
   "name": "python3"
  },
  "language_info": {
   "codemirror_mode": {
    "name": "ipython",
    "version": 3
   },
   "file_extension": ".py",
   "mimetype": "text/x-python",
   "name": "python",
   "nbconvert_exporter": "python",
   "pygments_lexer": "ipython3",
   "version": "3.9.12"
  }
 },
 "nbformat": 4,
 "nbformat_minor": 5
}
