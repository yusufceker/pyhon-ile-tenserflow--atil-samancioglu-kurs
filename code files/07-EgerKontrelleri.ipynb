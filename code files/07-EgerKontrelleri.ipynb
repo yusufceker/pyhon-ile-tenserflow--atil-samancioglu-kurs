{
 "cells": [
  {
   "cell_type": "code",
   "execution_count": 3,
   "id": "71be893b",
   "metadata": {},
   "outputs": [
    {
     "name": "stdout",
     "output_type": "stream",
     "text": [
      "yusuf çeker\n"
     ]
    }
   ],
   "source": [
    " if 3 > 1:\n",
    "        print(\"yusuf çeker\")"
   ]
  },
  {
   "cell_type": "code",
   "execution_count": 11,
   "id": "f69de8fc",
   "metadata": {},
   "outputs": [],
   "source": [
    "x = 4"
   ]
  },
  {
   "cell_type": "code",
   "execution_count": 5,
   "id": "3a046e7f",
   "metadata": {},
   "outputs": [],
   "source": [
    "y = 4"
   ]
  },
  {
   "cell_type": "code",
   "execution_count": 12,
   "id": "480e3a88",
   "metadata": {},
   "outputs": [
    {
     "name": "stdout",
     "output_type": "stream",
     "text": [
      "y ve x birbirine eşitmiş\n"
     ]
    }
   ],
   "source": [
    "if x > y:\n",
    "    print(\"x, y'den daha büyükmüş\")\n",
    "elif y > x:\n",
    "    print(print(\"y, x'den büyükmüş\"))\n",
    "else:\n",
    "    print(\"y ve x birbirine eşitmiş\")"
   ]
  },
  {
   "cell_type": "code",
   "execution_count": 8,
   "id": "a0e23bf7",
   "metadata": {},
   "outputs": [
    {
     "name": "stdout",
     "output_type": "stream",
     "text": [
      "Super kahraman seçiniz: Aquaman\n"
     ]
    }
   ],
   "source": [
    "benimKahramanim = input(\"Super kahraman seçiniz: \")"
   ]
  },
  {
   "cell_type": "code",
   "execution_count": 9,
   "id": "2903ed4f",
   "metadata": {},
   "outputs": [
    {
     "name": "stdout",
     "output_type": "stream",
     "text": [
      "Bu kim gerçekten bilmiyoruz.\n"
     ]
    }
   ],
   "source": [
    "if benimKahramanim == \"Batman\":\n",
    "    print(\"Batman'i seçtiniz tebrikler\")\n",
    "elif benimKahramanim == \"Superman\":\n",
    "    print(\"Keşke Batman'i seçseydiniz\")\n",
    "elif benimKahramanim == \"Ironman\":\n",
    "    print(\"Ironman kimdir?\")\n",
    "else:\n",
    "    print(\"Bu kim gerçekten bilmiyoruz.\")"
   ]
  },
  {
   "cell_type": "code",
   "execution_count": 12,
   "id": "f600f7ad",
   "metadata": {},
   "outputs": [],
   "source": [
    "a = 10\n",
    "b = 20\n",
    "c = 20"
   ]
  },
  {
   "cell_type": "code",
   "execution_count": 13,
   "id": "46c06f96",
   "metadata": {},
   "outputs": [
    {
     "name": "stdout",
     "output_type": "stream",
     "text": [
      "bu koşullar tutmadı.\n"
     ]
    }
   ],
   "source": [
    "if a > b and b > c:\n",
    "    print(\"a, b'den büyük ve b de c'den büyük\")\n",
    "elif a < b and b < c:\n",
    "    print(\"a, b'den küçük ve b de c'den küçük\")\n",
    "else:\n",
    "    print(\"bu koşullar tutmadı.\")"
   ]
  },
  {
   "cell_type": "code",
   "execution_count": 14,
   "id": "e32d0331",
   "metadata": {},
   "outputs": [],
   "source": [
    "m = 10\n",
    "k = 4\n",
    "l = 1"
   ]
  },
  {
   "cell_type": "code",
   "execution_count": 15,
   "id": "5d3ecdec",
   "metadata": {},
   "outputs": [
    {
     "name": "stdout",
     "output_type": "stream",
     "text": [
      "bu çalıştırılacak mı?\n"
     ]
    }
   ],
   "source": [
    "if m > k or k > l:\n",
    "    print(\"bu çalıştırılacak mı?\")"
   ]
  },
  {
   "cell_type": "code",
   "execution_count": 20,
   "id": "6171cc96",
   "metadata": {},
   "outputs": [],
   "source": [
    "karakterCanli = False"
   ]
  },
  {
   "cell_type": "code",
   "execution_count": 21,
   "id": "87592fd4",
   "metadata": {},
   "outputs": [
    {
     "name": "stdout",
     "output_type": "stream",
     "text": [
      "oyun karakteriniz yaşamıyor\n"
     ]
    }
   ],
   "source": [
    "if karakterCanli:\n",
    "    print(\"oyun karakteriniz yaşıyor\")\n",
    "else:\n",
    "    print(\"oyun karakteriniz yaşamıyor\")"
   ]
  },
  {
   "cell_type": "code",
   "execution_count": 22,
   "id": "86eb8434",
   "metadata": {},
   "outputs": [
    {
     "name": "stdout",
     "output_type": "stream",
     "text": [
      "karakter canlı değil\n"
     ]
    }
   ],
   "source": [
    "if not karakterCanli:\n",
    "    print(\"karakter canlı değil\")"
   ]
  },
  {
   "cell_type": "code",
   "execution_count": 29,
   "id": "b2aa2c5b",
   "metadata": {},
   "outputs": [],
   "source": [
    "benimString = \"Yusuf Çeker\""
   ]
  },
  {
   "cell_type": "code",
   "execution_count": 30,
   "id": "a8835f21",
   "metadata": {},
   "outputs": [
    {
     "name": "stdout",
     "output_type": "stream",
     "text": [
      "eşitmiş\n"
     ]
    }
   ],
   "source": [
    "if benimString == \"Yusuf Çeker\":\n",
    "    print(\"eşitmiş\")\n",
    "else:\n",
    "    print(\"eşit değilmiş\")"
   ]
  },
  {
   "cell_type": "code",
   "execution_count": 36,
   "id": "25c9acf2",
   "metadata": {},
   "outputs": [
    {
     "name": "stdout",
     "output_type": "stream",
     "text": [
      "yokmuş\n"
     ]
    }
   ],
   "source": [
    "if \"ssuf\" in benimString:\n",
    "    print(\"varmış\")\n",
    "else:\n",
    "    print(\"yokmuş\")"
   ]
  },
  {
   "cell_type": "code",
   "execution_count": 37,
   "id": "5810546b",
   "metadata": {},
   "outputs": [],
   "source": [
    "myList = [10,20,30,40,50]"
   ]
  },
  {
   "cell_type": "code",
   "execution_count": 39,
   "id": "9a56d5bf",
   "metadata": {},
   "outputs": [
    {
     "name": "stdout",
     "output_type": "stream",
     "text": [
      "hayır yok\n"
     ]
    }
   ],
   "source": [
    "if 60 in myList:\n",
    "    print(\"evet var\")\n",
    "else:\n",
    "    print(\"hayır yok\")"
   ]
  },
  {
   "cell_type": "code",
   "execution_count": 40,
   "id": "84eb839b",
   "metadata": {},
   "outputs": [],
   "source": [
    "myDict = {\"muz\" : 100, \"elma\" : 150, \"karpuz\" : 500}"
   ]
  },
  {
   "cell_type": "code",
   "execution_count": 41,
   "id": "56da1571",
   "metadata": {},
   "outputs": [
    {
     "data": {
      "text/plain": [
       "{'muz': 100, 'elma': 150, 'karpuz': 500}"
      ]
     },
     "execution_count": 41,
     "metadata": {},
     "output_type": "execute_result"
    }
   ],
   "source": [
    "myDict"
   ]
  },
  {
   "cell_type": "code",
   "execution_count": 42,
   "id": "128c3676",
   "metadata": {},
   "outputs": [
    {
     "data": {
      "text/plain": [
       "dict_keys(['muz', 'elma', 'karpuz'])"
      ]
     },
     "execution_count": 42,
     "metadata": {},
     "output_type": "execute_result"
    }
   ],
   "source": [
    "myDict.keys()"
   ]
  },
  {
   "cell_type": "code",
   "execution_count": 43,
   "id": "ffcda2f8",
   "metadata": {},
   "outputs": [
    {
     "data": {
      "text/plain": [
       "dict_values([100, 150, 500])"
      ]
     },
     "execution_count": 43,
     "metadata": {},
     "output_type": "execute_result"
    }
   ],
   "source": [
    "myDict.values()"
   ]
  },
  {
   "cell_type": "code",
   "execution_count": 44,
   "id": "337b22cb",
   "metadata": {},
   "outputs": [
    {
     "name": "stdout",
     "output_type": "stream",
     "text": [
      "varmış\n"
     ]
    }
   ],
   "source": [
    "if \"muz\" in myDict.keys():\n",
    "    print(\"varmış\")"
   ]
  },
  {
   "cell_type": "code",
   "execution_count": null,
   "id": "81a95a85",
   "metadata": {},
   "outputs": [],
   "source": [
    "if 250 in my"
   ]
  }
 ],
 "metadata": {
  "kernelspec": {
   "display_name": "Python 3 (ipykernel)",
   "language": "python",
   "name": "python3"
  },
  "language_info": {
   "codemirror_mode": {
    "name": "ipython",
    "version": 3
   },
   "file_extension": ".py",
   "mimetype": "text/x-python",
   "name": "python",
   "nbconvert_exporter": "python",
   "pygments_lexer": "ipython3",
   "version": "3.9.12"
  }
 },
 "nbformat": 4,
 "nbformat_minor": 5
}
