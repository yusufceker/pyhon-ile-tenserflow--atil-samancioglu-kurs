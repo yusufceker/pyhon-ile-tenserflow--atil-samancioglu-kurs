{
 "cells": [
  {
   "cell_type": "code",
   "execution_count": 1,
   "id": "dbe55c91",
   "metadata": {},
   "outputs": [],
   "source": [
    "benimAdim = \"Yusuf Çeker\""
   ]
  },
  {
   "cell_type": "code",
   "execution_count": 3,
   "id": "ed7dfad7",
   "metadata": {},
   "outputs": [
    {
     "data": {
      "text/plain": [
       "'YUSUF ÇEKER'"
      ]
     },
     "execution_count": 3,
     "metadata": {},
     "output_type": "execute_result"
    }
   ],
   "source": [
    "benimAdim.upper() # tüm harfleri büyük yazar."
   ]
  },
  {
   "cell_type": "code",
   "execution_count": 4,
   "id": "c965bcb3",
   "metadata": {},
   "outputs": [
    {
     "data": {
      "text/plain": [
       "'yusuf çeker'"
      ]
     },
     "execution_count": 4,
     "metadata": {},
     "output_type": "execute_result"
    }
   ],
   "source": [
    "benimAdim.lower() # tüm harfleri küçük yazar"
   ]
  },
  {
   "cell_type": "code",
   "execution_count": 5,
   "id": "6d42f599",
   "metadata": {},
   "outputs": [
    {
     "data": {
      "text/plain": [
       "'Yusuf çeker'"
      ]
     },
     "execution_count": 5,
     "metadata": {},
     "output_type": "execute_result"
    }
   ],
   "source": [
    "benimAdim.capitalize() # ilk harfini büyük yazar"
   ]
  },
  {
   "cell_type": "code",
   "execution_count": 6,
   "id": "18992435",
   "metadata": {},
   "outputs": [],
   "source": [
    "benimAdimBüyükHarfli = benimAdim.upper()"
   ]
  },
  {
   "cell_type": "code",
   "execution_count": 19,
   "id": "c69d5f75",
   "metadata": {},
   "outputs": [
    {
     "data": {
      "text/plain": [
       "'YUSUF ÇEKER'"
      ]
     },
     "execution_count": 19,
     "metadata": {},
     "output_type": "execute_result"
    }
   ],
   "source": [
    "benimAdimBüyükHarfli"
   ]
  },
  {
   "cell_type": "code",
   "execution_count": 18,
   "id": "a07cfa8f",
   "metadata": {},
   "outputs": [],
   "source": [
    "def ilkFonksiyon():\n",
    "    print(\"ilk fonksiyonum\")"
   ]
  },
  {
   "cell_type": "code",
   "execution_count": 17,
   "id": "6025bd2c",
   "metadata": {},
   "outputs": [
    {
     "name": "stdout",
     "output_type": "stream",
     "text": [
      "ilk fonksiyonum\n"
     ]
    }
   ],
   "source": [
    "ilkFonksiyon()"
   ]
  },
  {
   "cell_type": "markdown",
   "id": "598be9c2",
   "metadata": {},
   "source": [
    "## input & return"
   ]
  },
  {
   "cell_type": "code",
   "execution_count": 3,
   "id": "f43aee8d",
   "metadata": {},
   "outputs": [],
   "source": [
    "def merhabaDunya(yazdirilacakIsim):\n",
    "    print(\"merhaba\")\n",
    "    print(yazdirilacakIsim)"
   ]
  },
  {
   "cell_type": "code",
   "execution_count": 4,
   "id": "9ad6f875",
   "metadata": {},
   "outputs": [
    {
     "name": "stdout",
     "output_type": "stream",
     "text": [
      "merhaba\n",
      "Yusuf\n"
     ]
    }
   ],
   "source": [
    "merhabaDunya(\"Yusuf\")"
   ]
  },
  {
   "cell_type": "code",
   "execution_count": 6,
   "id": "a1286b43",
   "metadata": {},
   "outputs": [],
   "source": [
    "def merhaba(isim = \"Yusuf\"):\n",
    "    print(\"Merhaba\")\n",
    "    print(isim)"
   ]
  },
  {
   "cell_type": "code",
   "execution_count": 9,
   "id": "f896f80b",
   "metadata": {},
   "outputs": [
    {
     "name": "stdout",
     "output_type": "stream",
     "text": [
      "Merhaba\n",
      "Python\n"
     ]
    }
   ],
   "source": [
    "merhaba(\"python\")"
   ]
  },
  {
   "cell_type": "code",
   "execution_count": 10,
   "id": "ea5b3dc7",
   "metadata": {},
   "outputs": [],
   "source": [
    "def toplama(numara1, numara2):\n",
    "    sonuc = numara1 + numara2\n",
    "    print(sonuc)               #toplama fonksiyonu yaptim."
   ]
  },
  {
   "cell_type": "code",
   "execution_count": 12,
   "id": "6afaa7ce",
   "metadata": {},
   "outputs": [
    {
     "name": "stdout",
     "output_type": "stream",
     "text": [
      "1\n"
     ]
    }
   ],
   "source": [
    "toplama(1,0)"
   ]
  },
  {
   "cell_type": "code",
   "execution_count": 18,
   "id": "09430ded",
   "metadata": {},
   "outputs": [],
   "source": [
    "def superToplama(num1,num2,num3):\n",
    "    print(num1+num2+num3)"
   ]
  },
  {
   "cell_type": "code",
   "execution_count": 19,
   "id": "34eaa6f6",
   "metadata": {},
   "outputs": [
    {
     "name": "stdout",
     "output_type": "stream",
     "text": [
      "6\n"
     ]
    }
   ],
   "source": [
    "superToplama(1,2,3)"
   ]
  },
  {
   "cell_type": "code",
   "execution_count": 20,
   "id": "c6c0a460",
   "metadata": {},
   "outputs": [
    {
     "name": "stdout",
     "output_type": "stream",
     "text": [
      "30\n"
     ]
    }
   ],
   "source": [
    "yeniDegisken = toplama(10,20)"
   ]
  },
  {
   "cell_type": "code",
   "execution_count": 23,
   "id": "4e6becff",
   "metadata": {},
   "outputs": [],
   "source": [
    "def dondurmeliToplama(num1,num2):\n",
    "    return num1+num2    # return =>> fonksiyona atadığımız argümanları sonra kullanmamıza yarar..."
   ]
  },
  {
   "cell_type": "code",
   "execution_count": 25,
   "id": "fb07fa25",
   "metadata": {},
   "outputs": [],
   "source": [
    "yeniSonuc = dondurmeliToplama(10,20)"
   ]
  },
  {
   "cell_type": "code",
   "execution_count": 26,
   "id": "0c6ab092",
   "metadata": {},
   "outputs": [
    {
     "data": {
      "text/plain": [
       "30"
      ]
     },
     "execution_count": 26,
     "metadata": {},
     "output_type": "execute_result"
    }
   ],
   "source": [
    "yeniSonuc"
   ]
  },
  {
   "cell_type": "code",
   "execution_count": 38,
   "id": "770e9845",
   "metadata": {},
   "outputs": [],
   "source": [
    "def kontrolFonksiyon(s):\n",
    "    if s == \"yusuf\":\n",
    "        print(\"verdiğiniz string yusuf\")\n",
    "    else:\n",
    "        print(\"verdiğiniz string başka bir şey\")"
   ]
  },
  {
   "cell_type": "code",
   "execution_count": 40,
   "id": "7a958ffb",
   "metadata": {},
   "outputs": [
    {
     "name": "stdout",
     "output_type": "stream",
     "text": [
      "verdiğiniz string başka bir şey\n"
     ]
    }
   ],
   "source": [
    "kontrolFonksiyon(\"abc\")"
   ]
  },
  {
   "cell_type": "markdown",
   "id": "ea49c2ef",
   "metadata": {},
   "source": [
    "## args & kwargs"
   ]
  },
  {
   "cell_type": "code",
   "execution_count": 41,
   "id": "e5ad66c8",
   "metadata": {},
   "outputs": [],
   "source": [
    "def yeniToplama(*args):\n",
    "    return sum(args)"
   ]
  },
  {
   "cell_type": "code",
   "execution_count": 42,
   "id": "7458869e",
   "metadata": {},
   "outputs": [
    {
     "data": {
      "text/plain": [
       "210"
      ]
     },
     "execution_count": 42,
     "metadata": {},
     "output_type": "execute_result"
    }
   ],
   "source": [
    "yeniToplama(10,20,30,40,50,60)"
   ]
  },
  {
   "cell_type": "code",
   "execution_count": 43,
   "id": "c92f5341",
   "metadata": {},
   "outputs": [
    {
     "data": {
      "text/plain": [
       "30"
      ]
     },
     "execution_count": 43,
     "metadata": {},
     "output_type": "execute_result"
    }
   ],
   "source": [
    "yeniToplama(10,20)"
   ]
  },
  {
   "cell_type": "code",
   "execution_count": 44,
   "id": "b76cd1d8",
   "metadata": {},
   "outputs": [],
   "source": [
    "def benimFonksiyonum(*args):\n",
    "    return args"
   ]
  },
  {
   "cell_type": "code",
   "execution_count": 47,
   "id": "b31e9245",
   "metadata": {},
   "outputs": [
    {
     "name": "stdout",
     "output_type": "stream",
     "text": [
      "(20, 30, 40)\n"
     ]
    }
   ],
   "source": [
    "benimFonksiyonum(20,30,40)"
   ]
  },
  {
   "cell_type": "code",
   "execution_count": 61,
   "id": "2606fa51",
   "metadata": {},
   "outputs": [],
   "source": [
    "def ornekFonksiyon(**kwargs):\n",
    "    return kwargs"
   ]
  },
  {
   "cell_type": "code",
   "execution_count": 62,
   "id": "84179afd",
   "metadata": {},
   "outputs": [
    {
     "data": {
      "text/plain": [
       "dict"
      ]
     },
     "execution_count": 62,
     "metadata": {},
     "output_type": "execute_result"
    }
   ],
   "source": [
    "type(ornekFonksiyon(muz = 100, elma = 200, ananas = 300))"
   ]
  },
  {
   "cell_type": "code",
   "execution_count": 63,
   "id": "e742fad6",
   "metadata": {},
   "outputs": [],
   "source": [
    "def keyWordKontrolu(**kwargs):\n",
    "    if \"yusuf\" in kwargs:\n",
    "        print(\"yusuf var\")\n",
    "    else:\n",
    "        print(\"yusuf yok\")"
   ]
  },
  {
   "cell_type": "code",
   "execution_count": 71,
   "id": "13152d0b",
   "metadata": {},
   "outputs": [
    {
     "name": "stdout",
     "output_type": "stream",
     "text": [
      "yusuf var\n"
     ]
    }
   ],
   "source": [
    "keyWordKontrolu(yusuf = 10, mehmet = 20, kerem = 30)"
   ]
  },
  {
   "cell_type": "code",
   "execution_count": null,
   "id": "89e65ac7",
   "metadata": {},
   "outputs": [],
   "source": []
  }
 ],
 "metadata": {
  "kernelspec": {
   "display_name": "Python 3 (ipykernel)",
   "language": "python",
   "name": "python3"
  },
  "language_info": {
   "codemirror_mode": {
    "name": "ipython",
    "version": 3
   },
   "file_extension": ".py",
   "mimetype": "text/x-python",
   "name": "python",
   "nbconvert_exporter": "python",
   "pygments_lexer": "ipython3",
   "version": "3.9.12"
  }
 },
 "nbformat": 4,
 "nbformat_minor": 5
}
