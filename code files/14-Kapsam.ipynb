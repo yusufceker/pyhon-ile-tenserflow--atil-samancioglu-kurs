{
 "cells": [
  {
   "cell_type": "markdown",
   "id": "41f913a7",
   "metadata": {},
   "source": [
    "## scope"
   ]
  },
  {
   "cell_type": "code",
   "execution_count": 1,
   "id": "dd0d0b1a",
   "metadata": {},
   "outputs": [],
   "source": [
    "numara = 20\n",
    "\n",
    "def carpma(rakam):\n",
    "    numara = 10\n",
    "    return numara * rakam"
   ]
  },
  {
   "cell_type": "code",
   "execution_count": 2,
   "id": "201a5b9b",
   "metadata": {},
   "outputs": [
    {
     "data": {
      "text/plain": [
       "50"
      ]
     },
     "execution_count": 2,
     "metadata": {},
     "output_type": "execute_result"
    }
   ],
   "source": [
    "carpma(5)"
   ]
  },
  {
   "cell_type": "code",
   "execution_count": 7,
   "id": "d7aae6f6",
   "metadata": {},
   "outputs": [
    {
     "name": "stdout",
     "output_type": "stream",
     "text": [
      "20\n"
     ]
    }
   ],
   "source": [
    "print(numara)"
   ]
  },
  {
   "cell_type": "code",
   "execution_count": 8,
   "id": "2f3a40aa",
   "metadata": {},
   "outputs": [],
   "source": [
    "x = 20\n",
    "x = 10"
   ]
  },
  {
   "cell_type": "code",
   "execution_count": null,
   "id": "66896bd3",
   "metadata": {},
   "outputs": [],
   "source": [
    "x"
   ]
  },
  {
   "cell_type": "markdown",
   "id": "305916ea",
   "metadata": {},
   "source": [
    "## Local, Enclosing, Global, Built-In"
   ]
  },
  {
   "cell_type": "code",
   "execution_count": 10,
   "id": "8bc23b6c",
   "metadata": {},
   "outputs": [],
   "source": [
    "benimAdim = \"Yusuf\"\n",
    "#global"
   ]
  },
  {
   "cell_type": "code",
   "execution_count": 34,
   "id": "978a16a2",
   "metadata": {},
   "outputs": [],
   "source": [
    "def benimFonksiyonum():\n",
    "    benimAdim = \"Mehmet\"\n",
    "    #enclosing\n",
    "    def icFonksiyon():\n",
    "        benimAdim = \"Murat\"\n",
    "        #Local\n",
    "        print(benimAdim)\n",
    "    icFonksiyon()"
   ]
  },
  {
   "cell_type": "code",
   "execution_count": 31,
   "id": "2c220208",
   "metadata": {},
   "outputs": [
    {
     "name": "stdout",
     "output_type": "stream",
     "text": [
      "Murat\n"
     ]
    }
   ],
   "source": [
    "benimFonksiyonum()"
   ]
  },
  {
   "cell_type": "code",
   "execution_count": 14,
   "id": "7bfcd7a2",
   "metadata": {},
   "outputs": [
    {
     "data": {
      "text/plain": [
       "'Yusuf'"
      ]
     },
     "execution_count": 14,
     "metadata": {},
     "output_type": "execute_result"
    }
   ],
   "source": [
    "benimAdim"
   ]
  },
  {
   "cell_type": "code",
   "execution_count": 20,
   "id": "2bffc120",
   "metadata": {},
   "outputs": [],
   "source": [
    "y = 10\n",
    "\n",
    "def yeniFonksiyon(y):\n",
    "    print(y)\n",
    "    y = 5\n",
    "    print(y)\n",
    "    return y\n"
   ]
  },
  {
   "cell_type": "code",
   "execution_count": 21,
   "id": "ef1eff7f",
   "metadata": {},
   "outputs": [
    {
     "name": "stdout",
     "output_type": "stream",
     "text": [
      "3\n",
      "5\n"
     ]
    },
    {
     "data": {
      "text/plain": [
       "5"
      ]
     },
     "execution_count": 21,
     "metadata": {},
     "output_type": "execute_result"
    }
   ],
   "source": [
    "yeniFonksiyon(3)"
   ]
  },
  {
   "cell_type": "code",
   "execution_count": 22,
   "id": "b823abd6",
   "metadata": {},
   "outputs": [
    {
     "name": "stdout",
     "output_type": "stream",
     "text": [
      "3\n",
      "5\n"
     ]
    }
   ],
   "source": [
    "y = yeniFonksiyon(3)"
   ]
  },
  {
   "cell_type": "code",
   "execution_count": 24,
   "id": "c0c95378",
   "metadata": {},
   "outputs": [
    {
     "data": {
      "text/plain": [
       "5"
      ]
     },
     "execution_count": 24,
     "metadata": {},
     "output_type": "execute_result"
    }
   ],
   "source": [
    "y "
   ]
  },
  {
   "cell_type": "code",
   "execution_count": 2,
   "id": "027cc380",
   "metadata": {},
   "outputs": [],
   "source": [
    "y = 10\n",
    "\n",
    "def ornekFonksiyon():\n",
    "    global y\n",
    "    y = 5\n",
    "    print(y)"
   ]
  },
  {
   "cell_type": "code",
   "execution_count": 3,
   "id": "efd6c9b0",
   "metadata": {},
   "outputs": [
    {
     "name": "stdout",
     "output_type": "stream",
     "text": [
      "5\n"
     ]
    }
   ],
   "source": [
    "ornekFonksiyon()"
   ]
  },
  {
   "cell_type": "code",
   "execution_count": 28,
   "id": "ed17471f",
   "metadata": {},
   "outputs": [
    {
     "data": {
      "text/plain": [
       "5"
      ]
     },
     "execution_count": 28,
     "metadata": {},
     "output_type": "execute_result"
    }
   ],
   "source": [
    "y "
   ]
  },
  {
   "cell_type": "code",
   "execution_count": 1,
   "id": "d1dd9d69",
   "metadata": {},
   "outputs": [],
   "source": [
    "#nonlocal "
   ]
  },
  {
   "cell_type": "code",
   "execution_count": null,
   "id": "687cb53e",
   "metadata": {},
   "outputs": [],
   "source": []
  }
 ],
 "metadata": {
  "kernelspec": {
   "display_name": "Python 3 (ipykernel)",
   "language": "python",
   "name": "python3"
  },
  "language_info": {
   "codemirror_mode": {
    "name": "ipython",
    "version": 3
   },
   "file_extension": ".py",
   "mimetype": "text/x-python",
   "name": "python",
   "nbconvert_exporter": "python",
   "pygments_lexer": "ipython3",
   "version": "3.9.12"
  }
 },
 "nbformat": 4,
 "nbformat_minor": 5
}
