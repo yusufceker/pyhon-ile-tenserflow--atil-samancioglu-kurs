{
 "cells": [
  {
   "cell_type": "code",
   "execution_count": 1,
   "id": "0b006210",
   "metadata": {},
   "outputs": [],
   "source": [
    "benimListem = [5,10,15,20,25,30]"
   ]
  },
  {
   "cell_type": "code",
   "execution_count": 2,
   "id": "765786bd",
   "metadata": {},
   "outputs": [
    {
     "name": "stdout",
     "output_type": "stream",
     "text": [
      "1.0\n",
      "2.0\n",
      "3.0\n",
      "4.0\n",
      "5.0\n",
      "6.0\n"
     ]
    }
   ],
   "source": [
    "for numara in benimListem:\n",
    "    print(numara / 5)"
   ]
  },
  {
   "cell_type": "code",
   "execution_count": 3,
   "id": "4f994ee3",
   "metadata": {},
   "outputs": [
    {
     "name": "stdout",
     "output_type": "stream",
     "text": [
      "5\n",
      "10\n"
     ]
    }
   ],
   "source": [
    "for numara in benimListem:\n",
    "    if numara ==15:\n",
    "        break\n",
    "    print(numara)"
   ]
  },
  {
   "cell_type": "code",
   "execution_count": 4,
   "id": "6734db1a",
   "metadata": {},
   "outputs": [
    {
     "name": "stdout",
     "output_type": "stream",
     "text": [
      "5\n",
      "10\n",
      "20\n",
      "25\n",
      "30\n"
     ]
    }
   ],
   "source": [
    "for numara in benimListem:\n",
    "    if numara ==15:\n",
    "        continue\n",
    "    print(numara)"
   ]
  },
  {
   "cell_type": "code",
   "execution_count": null,
   "id": "dc7cd148",
   "metadata": {},
   "outputs": [],
   "source": [
    "for numara in benimListem:\n",
    "    if numara ==15:\n",
    "        pass\n",
    "    print(numara)"
   ]
  }
 ],
 "metadata": {
  "kernelspec": {
   "display_name": "Python 3 (ipykernel)",
   "language": "python",
   "name": "python3"
  },
  "language_info": {
   "codemirror_mode": {
    "name": "ipython",
    "version": 3
   },
   "file_extension": ".py",
   "mimetype": "text/x-python",
   "name": "python",
   "nbconvert_exporter": "python",
   "pygments_lexer": "ipython3",
   "version": "3.9.12"
  }
 },
 "nbformat": 4,
 "nbformat_minor": 5
}
