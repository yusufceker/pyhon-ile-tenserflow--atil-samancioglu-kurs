{
 "cells": [
  {
   "cell_type": "code",
   "execution_count": 16,
   "id": "6408c3ec",
   "metadata": {},
   "outputs": [],
   "source": [
    "myList = [1,2,\"a\",4.5]"
   ]
  },
  {
   "cell_type": "code",
   "execution_count": 17,
   "id": "3fb1c701",
   "metadata": {},
   "outputs": [
    {
     "data": {
      "text/plain": [
       "1"
      ]
     },
     "execution_count": 17,
     "metadata": {},
     "output_type": "execute_result"
    }
   ],
   "source": [
    "myList[0]"
   ]
  },
  {
   "cell_type": "code",
   "execution_count": 20,
   "id": "ea31d7aa",
   "metadata": {},
   "outputs": [],
   "source": [
    "myList[0] = 100 # we can change values of lists."
   ]
  },
  {
   "cell_type": "code",
   "execution_count": 21,
   "id": "5259eccc",
   "metadata": {},
   "outputs": [
    {
     "data": {
      "text/plain": [
       "[100, 2, 'a', 4.5]"
      ]
     },
     "execution_count": 21,
     "metadata": {},
     "output_type": "execute_result"
    }
   ],
   "source": [
    "myList"
   ]
  },
  {
   "cell_type": "code",
   "execution_count": 6,
   "id": "cc9f1d0b",
   "metadata": {},
   "outputs": [],
   "source": [
    "Tuple = (1,2,\"a\",4.5)"
   ]
  },
  {
   "cell_type": "code",
   "execution_count": 8,
   "id": "9567587e",
   "metadata": {},
   "outputs": [
    {
     "data": {
      "text/plain": [
       "(1, 2, 'a', 4.5)"
      ]
     },
     "execution_count": 8,
     "metadata": {},
     "output_type": "execute_result"
    }
   ],
   "source": [
    "Tuple"
   ]
  },
  {
   "cell_type": "code",
   "execution_count": 9,
   "id": "7af5dc72",
   "metadata": {},
   "outputs": [
    {
     "data": {
      "text/plain": [
       "1"
      ]
     },
     "execution_count": 9,
     "metadata": {},
     "output_type": "execute_result"
    }
   ],
   "source": [
    "Tuple[0]"
   ]
  },
  {
   "cell_type": "code",
   "execution_count": 11,
   "id": "0fb0b21d",
   "metadata": {},
   "outputs": [],
   "source": [
    "#Tuple[2] = \"b\" #we can not change values of tuples .error"
   ]
  },
  {
   "cell_type": "code",
   "execution_count": 14,
   "id": "f61146ce",
   "metadata": {},
   "outputs": [
    {
     "data": {
      "text/plain": [
       "1"
      ]
     },
     "execution_count": 14,
     "metadata": {},
     "output_type": "execute_result"
    }
   ],
   "source": [
    "Tuple.count(\"a\") #how much 1 in \"Tuple\"? = .1."
   ]
  },
  {
   "cell_type": "code",
   "execution_count": 15,
   "id": "c428254e",
   "metadata": {},
   "outputs": [
    {
     "data": {
      "text/plain": [
       "3"
      ]
     },
     "execution_count": 15,
     "metadata": {},
     "output_type": "execute_result"
    }
   ],
   "source": [
    "Tuple.index(4.5) # what is the index of 4.5?"
   ]
  }
 ],
 "metadata": {
  "kernelspec": {
   "display_name": "Python 3 (ipykernel)",
   "language": "python",
   "name": "python3"
  },
  "language_info": {
   "codemirror_mode": {
    "name": "ipython",
    "version": 3
   },
   "file_extension": ".py",
   "mimetype": "text/x-python",
   "name": "python",
   "nbconvert_exporter": "python",
   "pygments_lexer": "ipython3",
   "version": "3.9.12"
  }
 },
 "nbformat": 4,
 "nbformat_minor": 5
}
