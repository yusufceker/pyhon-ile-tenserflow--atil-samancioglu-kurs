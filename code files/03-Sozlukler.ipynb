{
 "cells": [
  {
   "cell_type": "code",
   "execution_count": 2,
   "id": "00bdbdc5",
   "metadata": {},
   "outputs": [],
   "source": [
    "benimYemeklerim = [\"Elma\",\"Karpuz\",\"Muz\"]"
   ]
  },
  {
   "cell_type": "code",
   "execution_count": 3,
   "id": "8782c3e1",
   "metadata": {},
   "outputs": [],
   "source": [
    "benimKalorilerim = [100,200,300]"
   ]
  },
  {
   "cell_type": "code",
   "execution_count": 4,
   "id": "0ac2f178",
   "metadata": {},
   "outputs": [
    {
     "data": {
      "text/plain": [
       "200"
      ]
     },
     "execution_count": 4,
     "metadata": {},
     "output_type": "execute_result"
    }
   ],
   "source": [
    "benimKalorilerim[1]"
   ]
  },
  {
   "cell_type": "code",
   "execution_count": 6,
   "id": "11eca0c0",
   "metadata": {},
   "outputs": [],
   "source": [
    "#dictionary"
   ]
  },
  {
   "cell_type": "code",
   "execution_count": 7,
   "id": "c8f2247d",
   "metadata": {},
   "outputs": [],
   "source": [
    "benimSozluk = {\"anahtar kelime\" : \"değer\"}"
   ]
  },
  {
   "cell_type": "code",
   "execution_count": 8,
   "id": "69091b0c",
   "metadata": {},
   "outputs": [
    {
     "data": {
      "text/plain": [
       "{'anahtar kelime': 'değer'}"
      ]
     },
     "execution_count": 8,
     "metadata": {},
     "output_type": "execute_result"
    }
   ],
   "source": [
    "benimSozluk"
   ]
  },
  {
   "cell_type": "code",
   "execution_count": 9,
   "id": "9b3c752d",
   "metadata": {},
   "outputs": [
    {
     "data": {
      "text/plain": [
       "dict"
      ]
     },
     "execution_count": 9,
     "metadata": {},
     "output_type": "execute_result"
    }
   ],
   "source": [
    "type(benimSozluk)"
   ]
  },
  {
   "cell_type": "code",
   "execution_count": 10,
   "id": "b2922637",
   "metadata": {},
   "outputs": [],
   "source": [
    "benimYemekKaloriSozlugum = {\"elma\" : 100,\"karpuz\" : 200, \"muz\" : 300}"
   ]
  },
  {
   "cell_type": "code",
   "execution_count": 11,
   "id": "1377c79b",
   "metadata": {},
   "outputs": [
    {
     "data": {
      "text/plain": [
       "300"
      ]
     },
     "execution_count": 11,
     "metadata": {},
     "output_type": "execute_result"
    }
   ],
   "source": [
    "benimYemekKaloriSozlugum[\"muz\"] #muz = 300"
   ]
  },
  {
   "cell_type": "code",
   "execution_count": 12,
   "id": "dcd9af20",
   "metadata": {},
   "outputs": [],
   "source": [
    " benimYemekKaloriSozlugum[\"elma\"] = 300 #elma'nın değeri değişti"
   ]
  },
  {
   "cell_type": "code",
   "execution_count": 13,
   "id": "934e2807",
   "metadata": {},
   "outputs": [
    {
     "data": {
      "text/plain": [
       "{'elma': 300, 'karpuz': 200, 'muz': 300}"
      ]
     },
     "execution_count": 13,
     "metadata": {},
     "output_type": "execute_result"
    }
   ],
   "source": [
    "benimYemekKaloriSozlugum"
   ]
  },
  {
   "cell_type": "code",
   "execution_count": 14,
   "id": "1516c58b",
   "metadata": {},
   "outputs": [],
   "source": [
    "benimDegisikSozlugum = {1:\"yusuf\",-2:\"asaf\"}"
   ]
  },
  {
   "cell_type": "code",
   "execution_count": 16,
   "id": "f87e7ada",
   "metadata": {},
   "outputs": [
    {
     "data": {
      "text/plain": [
       "'yusuf'"
      ]
     },
     "execution_count": 16,
     "metadata": {},
     "output_type": "execute_result"
    }
   ],
   "source": [
    "benimDegisikSozlugum[1]"
   ]
  },
  {
   "cell_type": "code",
   "execution_count": 51,
   "id": "6a2b2782",
   "metadata": {},
   "outputs": [],
   "source": [
    "yeniDict =  {\"anahtar1\" : 100, \"anahtar2\" : [10,20,30,40,4.5,\"yusuf\"], \"anahtar3\" : {\"anahtar4\" : 4}}"
   ]
  },
  {
   "cell_type": "code",
   "execution_count": 20,
   "id": "0b033e2b",
   "metadata": {},
   "outputs": [
    {
     "data": {
      "text/plain": [
       "100"
      ]
     },
     "execution_count": 20,
     "metadata": {},
     "output_type": "execute_result"
    }
   ],
   "source": [
    "yeniDict[\"anahtar1\"]"
   ]
  },
  {
   "cell_type": "code",
   "execution_count": 22,
   "id": "ae47851b",
   "metadata": {},
   "outputs": [
    {
     "data": {
      "text/plain": [
       "int"
      ]
     },
     "execution_count": 22,
     "metadata": {},
     "output_type": "execute_result"
    }
   ],
   "source": [
    "type(yeniDict[\"anahtar1\"]) # int"
   ]
  },
  {
   "cell_type": "code",
   "execution_count": 23,
   "id": "a63b417b",
   "metadata": {},
   "outputs": [
    {
     "data": {
      "text/plain": [
       "dict_keys(['anahtar1', 'anahtar2', 'anahtar3'])"
      ]
     },
     "execution_count": 23,
     "metadata": {},
     "output_type": "execute_result"
    }
   ],
   "source": [
    "yeniDict.keys() #tüm anahtar kelimeleri gösterir."
   ]
  },
  {
   "cell_type": "code",
   "execution_count": 24,
   "id": "468a5bb2",
   "metadata": {},
   "outputs": [
    {
     "data": {
      "text/plain": [
       "dict_values([100, [10, 20, 30, 40, 4.5, 'yusuf'], {'anahtar3': {'anahtar9': 4}}])"
      ]
     },
     "execution_count": 24,
     "metadata": {},
     "output_type": "execute_result"
    }
   ],
   "source": [
    "yeniDict.values() #tüm değerleri gösterir."
   ]
  },
  {
   "cell_type": "code",
   "execution_count": 52,
   "id": "d2cb4a01",
   "metadata": {},
   "outputs": [
    {
     "data": {
      "text/plain": [
       "4"
      ]
     },
     "execution_count": 52,
     "metadata": {},
     "output_type": "execute_result"
    }
   ],
   "source": [
    "yeniDict[\"anahtar3\"][\"anahtar4\"]"
   ]
  },
  {
   "cell_type": "code",
   "execution_count": 45,
   "id": "c1ec4647",
   "metadata": {},
   "outputs": [
    {
     "data": {
      "text/plain": [
       "'yusuf'"
      ]
     },
     "execution_count": 45,
     "metadata": {},
     "output_type": "execute_result"
    }
   ],
   "source": [
    "yeniDict[\"anahtar2\"][-1]"
   ]
  },
  {
   "cell_type": "code",
   "execution_count": 1,
   "id": "916e4047",
   "metadata": {},
   "outputs": [],
   "source": [
    "newDict = {\"ronaldo\" : 7, \"messi\" : [10,30],\"neymar\" : 10}"
   ]
  },
  {
   "cell_type": "code",
   "execution_count": 2,
   "id": "be287daa",
   "metadata": {},
   "outputs": [
    {
     "name": "stdout",
     "output_type": "stream",
     "text": [
      "{'ronaldo': 7, 'messi': [10, 30], 'neymar': 10}\n"
     ]
    }
   ],
   "source": [
    "print(newDict)"
   ]
  },
  {
   "cell_type": "code",
   "execution_count": 3,
   "id": "819ebecf",
   "metadata": {},
   "outputs": [
    {
     "data": {
      "text/plain": [
       "7"
      ]
     },
     "execution_count": 3,
     "metadata": {},
     "output_type": "execute_result"
    }
   ],
   "source": [
    "newDict[\"ronaldo\"]"
   ]
  },
  {
   "cell_type": "code",
   "execution_count": 4,
   "id": "75738813",
   "metadata": {},
   "outputs": [
    {
     "data": {
      "text/plain": [
       "30"
      ]
     },
     "execution_count": 4,
     "metadata": {},
     "output_type": "execute_result"
    }
   ],
   "source": [
    "newDict[\"messi\"][1]"
   ]
  },
  {
   "cell_type": "code",
   "execution_count": 5,
   "id": "575c5caa",
   "metadata": {},
   "outputs": [
    {
     "data": {
      "text/plain": [
       "10"
      ]
     },
     "execution_count": 5,
     "metadata": {},
     "output_type": "execute_result"
    }
   ],
   "source": [
    "newDict[\"messi\"][0]"
   ]
  },
  {
   "cell_type": "code",
   "execution_count": null,
   "id": "266278d4",
   "metadata": {},
   "outputs": [],
   "source": []
  }
 ],
 "metadata": {
  "kernelspec": {
   "display_name": "Python 3 (ipykernel)",
   "language": "python",
   "name": "python3"
  },
  "language_info": {
   "codemirror_mode": {
    "name": "ipython",
    "version": 3
   },
   "file_extension": ".py",
   "mimetype": "text/x-python",
   "name": "python",
   "nbconvert_exporter": "python",
   "pygments_lexer": "ipython3",
   "version": "3.9.12"
  }
 },
 "nbformat": 4,
 "nbformat_minor": 5
}
