{
 "cells": [
  {
   "cell_type": "code",
   "execution_count": 3,
   "id": "c3c82b7e",
   "metadata": {},
   "outputs": [],
   "source": [
    "def bolmeIslemi(numara):\n",
    "    return numara / 2"
   ]
  },
  {
   "cell_type": "code",
   "execution_count": 4,
   "id": "1276da92",
   "metadata": {},
   "outputs": [
    {
     "data": {
      "text/plain": [
       "10.0"
      ]
     },
     "execution_count": 4,
     "metadata": {},
     "output_type": "execute_result"
    }
   ],
   "source": [
    "bolmeIslemi(20)"
   ]
  },
  {
   "cell_type": "code",
   "execution_count": 5,
   "id": "4b8bebe9",
   "metadata": {},
   "outputs": [],
   "source": [
    "benimListem = [1,2,3,4,5,6,7,8,9,10]"
   ]
  },
  {
   "cell_type": "code",
   "execution_count": 8,
   "id": "cc53d203",
   "metadata": {},
   "outputs": [],
   "source": [
    "yeniListe = []\n",
    "for eleman in benimListem:\n",
    "    yeniListe.append(bolmeIslemi(eleman))"
   ]
  },
  {
   "cell_type": "code",
   "execution_count": 9,
   "id": "f42e5780",
   "metadata": {},
   "outputs": [
    {
     "data": {
      "text/plain": [
       "[0.5, 1.0, 1.5, 2.0, 2.5, 3.0, 3.5, 4.0, 4.5, 5.0]"
      ]
     },
     "execution_count": 9,
     "metadata": {},
     "output_type": "execute_result"
    }
   ],
   "source": [
    "yeniListe"
   ]
  },
  {
   "cell_type": "markdown",
   "id": "f1f1257e",
   "metadata": {},
   "source": [
    "## map"
   ]
  },
  {
   "cell_type": "code",
   "execution_count": 11,
   "id": "d60bf3a4",
   "metadata": {},
   "outputs": [
    {
     "data": {
      "text/plain": [
       "[0.5, 1.0, 1.5, 2.0, 2.5, 3.0, 3.5, 4.0, 4.5, 5.0]"
      ]
     },
     "execution_count": 11,
     "metadata": {},
     "output_type": "execute_result"
    }
   ],
   "source": [
    "list(map(bolmeIslemi,benimListem))"
   ]
  },
  {
   "cell_type": "code",
   "execution_count": 26,
   "id": "ea1e81f1",
   "metadata": {},
   "outputs": [],
   "source": [
    "def kontrolFonksiyonu(string):\n",
    "    return \"e\" in string"
   ]
  },
  {
   "cell_type": "code",
   "execution_count": 27,
   "id": "eeb1ef1e",
   "metadata": {},
   "outputs": [
    {
     "data": {
      "text/plain": [
       "False"
      ]
     },
     "execution_count": 27,
     "metadata": {},
     "output_type": "execute_result"
    }
   ],
   "source": [
    "kontrolFonksiyonu(\"yusuf\")"
   ]
  },
  {
   "cell_type": "code",
   "execution_count": 28,
   "id": "5beacb29",
   "metadata": {},
   "outputs": [],
   "source": [
    "stringList = [\"yusuf\",\"çeker\",\"ahmet\",\"levent\"]"
   ]
  },
  {
   "cell_type": "code",
   "execution_count": 29,
   "id": "d1ce1940",
   "metadata": {},
   "outputs": [],
   "source": [
    "sonucList = list(map(kontrolFonksiyonu,strinList))"
   ]
  },
  {
   "cell_type": "code",
   "execution_count": 30,
   "id": "6ee19075",
   "metadata": {},
   "outputs": [
    {
     "data": {
      "text/plain": [
       "3"
      ]
     },
     "execution_count": 30,
     "metadata": {},
     "output_type": "execute_result"
    }
   ],
   "source": [
    "print(sonucList.count(True)) # 3"
   ]
  },
  {
   "cell_type": "code",
   "execution_count": 34,
   "id": "c850a68c",
   "metadata": {
    "scrolled": true
   },
   "outputs": [
    {
     "data": {
      "text/plain": [
       "1"
      ]
     },
     "execution_count": 34,
     "metadata": {},
     "output_type": "execute_result"
    }
   ],
   "source": [
    "sonucList.count(False) # 1"
   ]
  },
  {
   "cell_type": "markdown",
   "id": "26ece592",
   "metadata": {},
   "source": [
    "## filter"
   ]
  },
  {
   "cell_type": "code",
   "execution_count": 35,
   "id": "11984cbb",
   "metadata": {},
   "outputs": [
    {
     "data": {
      "text/plain": [
       "['çeker', 'ahmet', 'levent']"
      ]
     },
     "execution_count": 35,
     "metadata": {},
     "output_type": "execute_result"
    }
   ],
   "source": [
    "list(filter(kontrolFonksiyonu,stringList)) # içinde e olan isimleri söylüyor."
   ]
  },
  {
   "cell_type": "markdown",
   "id": "82447613",
   "metadata": {},
   "source": [
    "## lambda"
   ]
  },
  {
   "cell_type": "code",
   "execution_count": 2,
   "id": "fc5a6112",
   "metadata": {},
   "outputs": [],
   "source": [
    "carpma = lambda numara : numara * 3"
   ]
  },
  {
   "cell_type": "code",
   "execution_count": 3,
   "id": "d5eec37d",
   "metadata": {},
   "outputs": [
    {
     "data": {
      "text/plain": [
       "30"
      ]
     },
     "execution_count": 3,
     "metadata": {},
     "output_type": "execute_result"
    }
   ],
   "source": [
    "carpma(10)"
   ]
  },
  {
   "cell_type": "code",
   "execution_count": 4,
   "id": "73d790b4",
   "metadata": {},
   "outputs": [],
   "source": [
    "ornekListesi = [10,20,30]"
   ]
  },
  {
   "cell_type": "code",
   "execution_count": 5,
   "id": "a7ae1979",
   "metadata": {},
   "outputs": [
    {
     "data": {
      "text/plain": [
       "[40, 80, 120]"
      ]
     },
     "execution_count": 5,
     "metadata": {},
     "output_type": "execute_result"
    }
   ],
   "source": [
    "list(map(lambda numara : numara * 4,ornekListesi))"
   ]
  },
  {
   "cell_type": "code",
   "execution_count": null,
   "id": "33b86e64",
   "metadata": {},
   "outputs": [],
   "source": []
  }
 ],
 "metadata": {
  "kernelspec": {
   "display_name": "Python 3 (ipykernel)",
   "language": "python",
   "name": "python3"
  },
  "language_info": {
   "codemirror_mode": {
    "name": "ipython",
    "version": 3
   },
   "file_extension": ".py",
   "mimetype": "text/x-python",
   "name": "python",
   "nbconvert_exporter": "python",
   "pygments_lexer": "ipython3",
   "version": "3.9.12"
  }
 },
 "nbformat": 4,
 "nbformat_minor": 5
}
