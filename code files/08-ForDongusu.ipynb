{
 "cells": [
  {
   "cell_type": "code",
   "execution_count": 1,
   "id": "43840356",
   "metadata": {},
   "outputs": [],
   "source": [
    "myList = [10,20,30,40,50]"
   ]
  },
  {
   "cell_type": "code",
   "execution_count": 2,
   "id": "50d3ec10",
   "metadata": {},
   "outputs": [
    {
     "name": "stdout",
     "output_type": "stream",
     "text": [
      "evet içerisinde mevcut\n"
     ]
    }
   ],
   "source": [
    "if 10 in myList:\n",
    "    print(\"evet içerisinde mevcut\")"
   ]
  },
  {
   "cell_type": "code",
   "execution_count": 3,
   "id": "f9203943",
   "metadata": {},
   "outputs": [
    {
     "data": {
      "text/plain": [
       "16.666666666666668"
      ]
     },
     "execution_count": 3,
     "metadata": {},
     "output_type": "execute_result"
    }
   ],
   "source": [
    "myList[0] * 5 / 3"
   ]
  },
  {
   "cell_type": "code",
   "execution_count": 8,
   "id": "d8115a26",
   "metadata": {},
   "outputs": [
    {
     "name": "stdout",
     "output_type": "stream",
     "text": [
      "döngü başladı\n",
      "16.666666666666668\n",
      "33.333333333333336\n",
      "50.0\n",
      "66.66666666666667\n",
      "83.33333333333333\n",
      "döngü bitti\n"
     ]
    }
   ],
   "source": [
    "print(\"döngü başladı\")\n",
    "for number in myList:\n",
    "    print(number * 5 / 3)\n",
    "print(\"döngü bitti\")"
   ]
  },
  {
   "cell_type": "code",
   "execution_count": 6,
   "id": "6e341a6d",
   "metadata": {},
   "outputs": [],
   "source": [
    "yeniListe = [1,2,3,4,5,6]"
   ]
  },
  {
   "cell_type": "code",
   "execution_count": 8,
   "id": "47e313b1",
   "metadata": {},
   "outputs": [
    {
     "name": "stdout",
     "output_type": "stream",
     "text": [
      "2\n",
      "4\n",
      "6\n"
     ]
    }
   ],
   "source": [
    "for rakam in yeniListe:\n",
    "    if rakam % 2 == 0:\n",
    "        print(rakam)"
   ]
  },
  {
   "cell_type": "code",
   "execution_count": 9,
   "id": "52e3b32d",
   "metadata": {},
   "outputs": [],
   "source": [
    "yeniString = \"Yusuf Çeker\""
   ]
  },
  {
   "cell_type": "code",
   "execution_count": 10,
   "id": "4991965e",
   "metadata": {},
   "outputs": [
    {
     "name": "stdout",
     "output_type": "stream",
     "text": [
      "Y\n",
      "u\n",
      "s\n",
      "u\n",
      "f\n",
      " \n",
      "Ç\n",
      "e\n",
      "k\n",
      "e\n",
      "r\n"
     ]
    }
   ],
   "source": [
    "for harf in yeniString:\n",
    "    print(harf)"
   ]
  },
  {
   "cell_type": "code",
   "execution_count": 11,
   "id": "85593a24",
   "metadata": {},
   "outputs": [],
   "source": [
    "benimTuple = (1,2,3,4,5)"
   ]
  },
  {
   "cell_type": "code",
   "execution_count": 14,
   "id": "3f242d75",
   "metadata": {},
   "outputs": [
    {
     "name": "stdout",
     "output_type": "stream",
     "text": [
      "1\n",
      "2\n",
      "3\n",
      "4\n",
      "5\n"
     ]
    }
   ],
   "source": [
    "for eleman in benimTuple:\n",
    "    print(eleman)  "
   ]
  },
  {
   "cell_type": "code",
   "execution_count": 23,
   "id": "8d960476",
   "metadata": {},
   "outputs": [],
   "source": [
    "kordinaListesi = [(10.2,15.2),(32.4,16.2),(40.2,20.2)]"
   ]
  },
  {
   "cell_type": "code",
   "execution_count": 17,
   "id": "478c50c9",
   "metadata": {},
   "outputs": [
    {
     "data": {
      "text/plain": [
       "tuple"
      ]
     },
     "execution_count": 17,
     "metadata": {},
     "output_type": "execute_result"
    }
   ],
   "source": [
    "type(kordinaListesi[0])"
   ]
  },
  {
   "cell_type": "code",
   "execution_count": 20,
   "id": "c0d20052",
   "metadata": {},
   "outputs": [
    {
     "name": "stdout",
     "output_type": "stream",
     "text": [
      "(10.2, 15.2)\n",
      "(32.4, 16.2)\n",
      "(40.2, 20, 2)\n"
     ]
    }
   ],
   "source": [
    "for eleman in kordinaListesi:\n",
    "    print(eleman)"
   ]
  },
  {
   "cell_type": "code",
   "execution_count": 24,
   "id": "c7315553",
   "metadata": {},
   "outputs": [
    {
     "name": "stdout",
     "output_type": "stream",
     "text": [
      "15.2\n",
      "16.2\n",
      "20.2\n"
     ]
    }
   ],
   "source": [
    "for (x,y) in kordinaListesi:\n",
    "    print(y)"
   ]
  },
  {
   "cell_type": "code",
   "execution_count": 25,
   "id": "67581267",
   "metadata": {},
   "outputs": [],
   "source": [
    "benimGaripListem = [(1,2,3),(4,5,6),(7,8,9)]"
   ]
  },
  {
   "cell_type": "code",
   "execution_count": 26,
   "id": "f5ef51b4",
   "metadata": {},
   "outputs": [
    {
     "name": "stdout",
     "output_type": "stream",
     "text": [
      "3\n",
      "6\n",
      "9\n"
     ]
    }
   ],
   "source": [
    "for (x,y,z) in benimGaripListem:\n",
    "    print(z)"
   ]
  },
  {
   "cell_type": "code",
   "execution_count": 27,
   "id": "15270760",
   "metadata": {},
   "outputs": [],
   "source": [
    "benimSozluk = {\"muz\":150,\"portakal\":250,\"elma\":400}"
   ]
  },
  {
   "cell_type": "code",
   "execution_count": 33,
   "id": "fefcfe78",
   "metadata": {},
   "outputs": [
    {
     "data": {
      "text/plain": [
       "dict_items([('muz', 150), ('portakal', 250), ('elma', 400)])"
      ]
     },
     "execution_count": 33,
     "metadata": {},
     "output_type": "execute_result"
    }
   ],
   "source": [
    "benimSozluk.items()"
   ]
  },
  {
   "cell_type": "code",
   "execution_count": 36,
   "id": "fa79b776",
   "metadata": {},
   "outputs": [
    {
     "name": "stdout",
     "output_type": "stream",
     "text": [
      "muz\n",
      "portakal\n",
      "elma\n"
     ]
    }
   ],
   "source": [
    "for (anahtar,deger) in benimSozluk.items():\n",
    "    print(anahtar) #print(deger) =>> show the values"
   ]
  },
  {
   "cell_type": "code",
   "execution_count": 41,
   "id": "9b248a33",
   "metadata": {},
   "outputs": [
    {
     "name": "stdout",
     "output_type": "stream",
     "text": [
      "sa\n",
      "sa\n"
     ]
    }
   ],
   "source": [
    "for i in range(2):\n",
    "    print(\"sa\")"
   ]
  },
  {
   "cell_type": "code",
   "execution_count": 46,
   "id": "84a91c61",
   "metadata": {},
   "outputs": [
    {
     "name": "stdout",
     "output_type": "stream",
     "text": [
      "HACKLENDİN\n",
      "HACKLENDİN\n",
      "HACKLENDİN\n",
      "HACKLENDİN\n",
      "HACKLENDİN\n",
      "HACKLENDİN\n",
      "HACKLENDİN\n",
      "HACKLENDİN\n",
      "HACKLENDİN\n",
      "HACKLENDİN\n",
      "HACKLENDİN\n",
      "HACKLENDİN\n",
      "HACKLENDİN\n",
      "HACKLENDİN\n",
      "HACKLENDİN\n",
      "HACKLENDİN\n",
      "HACKLENDİN\n",
      "HACKLENDİN\n",
      "HACKLENDİN\n",
      "HACKLENDİN\n",
      "HACKLENDİN\n",
      "HACKLENDİN\n",
      "HACKLENDİN\n",
      "HACKLENDİN\n",
      "HACKLENDİN\n",
      "HACKLENDİN\n",
      "HACKLENDİN\n",
      "HACKLENDİN\n",
      "HACKLENDİN\n",
      "HACKLENDİN\n",
      "HACKLENDİN\n",
      "HACKLENDİN\n",
      "HACKLENDİN\n",
      "HACKLENDİN\n",
      "HACKLENDİN\n",
      "HACKLENDİN\n",
      "HACKLENDİN\n",
      "HACKLENDİN\n",
      "HACKLENDİN\n",
      "HACKLENDİN\n",
      "HACKLENDİN\n",
      "HACKLENDİN\n",
      "HACKLENDİN\n",
      "HACKLENDİN\n",
      "HACKLENDİN\n",
      "HACKLENDİN\n",
      "HACKLENDİN\n",
      "HACKLENDİN\n",
      "HACKLENDİN\n",
      "HACKLENDİN\n",
      "HACKLENDİN\n",
      "HACKLENDİN\n",
      "HACKLENDİN\n",
      "HACKLENDİN\n",
      "HACKLENDİN\n",
      "HACKLENDİN\n",
      "HACKLENDİN\n",
      "HACKLENDİN\n",
      "HACKLENDİN\n",
      "HACKLENDİN\n",
      "HACKLENDİN\n",
      "HACKLENDİN\n",
      "HACKLENDİN\n",
      "HACKLENDİN\n",
      "HACKLENDİN\n",
      "HACKLENDİN\n",
      "HACKLENDİN\n",
      "HACKLENDİN\n",
      "HACKLENDİN\n",
      "HACKLENDİN\n",
      "HACKLENDİN\n",
      "HACKLENDİN\n",
      "HACKLENDİN\n",
      "HACKLENDİN\n",
      "HACKLENDİN\n",
      "HACKLENDİN\n",
      "HACKLENDİN\n",
      "HACKLENDİN\n",
      "HACKLENDİN\n",
      "HACKLENDİN\n",
      "HACKLENDİN\n",
      "HACKLENDİN\n",
      "HACKLENDİN\n",
      "HACKLENDİN\n",
      "HACKLENDİN\n",
      "HACKLENDİN\n",
      "HACKLENDİN\n",
      "HACKLENDİN\n",
      "HACKLENDİN\n",
      "HACKLENDİN\n",
      "HACKLENDİN\n",
      "HACKLENDİN\n",
      "HACKLENDİN\n",
      "HACKLENDİN\n",
      "HACKLENDİN\n",
      "HACKLENDİN\n",
      "HACKLENDİN\n",
      "HACKLENDİN\n",
      "HACKLENDİN\n",
      "HACKLENDİN\n"
     ]
    }
   ],
   "source": [
    "for i in range(100):\n",
    "    print(\"HACKLENDİN\") "
   ]
  },
  {
   "cell_type": "code",
   "execution_count": null,
   "id": "2ab77604",
   "metadata": {},
   "outputs": [],
   "source": []
  }
 ],
 "metadata": {
  "kernelspec": {
   "display_name": "Python 3 (ipykernel)",
   "language": "python",
   "name": "python3"
  },
  "language_info": {
   "codemirror_mode": {
    "name": "ipython",
    "version": 3
   },
   "file_extension": ".py",
   "mimetype": "text/x-python",
   "name": "python",
   "nbconvert_exporter": "python",
   "pygments_lexer": "ipython3",
   "version": "3.9.12"
  }
 },
 "nbformat": 4,
 "nbformat_minor": 5
}
