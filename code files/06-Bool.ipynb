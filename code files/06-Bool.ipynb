{
 "cells": [
  {
   "cell_type": "code",
   "execution_count": 1,
   "id": "9b5419f7",
   "metadata": {},
   "outputs": [],
   "source": [
    "myBool = True"
   ]
  },
  {
   "cell_type": "code",
   "execution_count": 2,
   "id": "4c3bbc06",
   "metadata": {},
   "outputs": [
    {
     "data": {
      "text/plain": [
       "True"
      ]
     },
     "execution_count": 2,
     "metadata": {},
     "output_type": "execute_result"
    }
   ],
   "source": [
    "myBool"
   ]
  },
  {
   "cell_type": "code",
   "execution_count": 3,
   "id": "8c043be6",
   "metadata": {},
   "outputs": [
    {
     "data": {
      "text/plain": [
       "bool"
      ]
     },
     "execution_count": 3,
     "metadata": {},
     "output_type": "execute_result"
    }
   ],
   "source": [
    "type(myBool)"
   ]
  },
  {
   "cell_type": "code",
   "execution_count": 4,
   "id": "0bd996b9",
   "metadata": {},
   "outputs": [],
   "source": [
    "myBool = False"
   ]
  },
  {
   "cell_type": "code",
   "execution_count": 5,
   "id": "dbf51cf4",
   "metadata": {},
   "outputs": [
    {
     "data": {
      "text/plain": [
       "True"
      ]
     },
     "execution_count": 5,
     "metadata": {},
     "output_type": "execute_result"
    }
   ],
   "source": [
    "10 > 5"
   ]
  },
  {
   "cell_type": "code",
   "execution_count": 6,
   "id": "347bbe6e",
   "metadata": {},
   "outputs": [
    {
     "data": {
      "text/plain": [
       "False"
      ]
     },
     "execution_count": 6,
     "metadata": {},
     "output_type": "execute_result"
    }
   ],
   "source": [
    "10 < 5"
   ]
  },
  {
   "cell_type": "code",
   "execution_count": 6,
   "id": "a699007c",
   "metadata": {},
   "outputs": [],
   "source": [
    "list = (5000,10000,3000,2000,4000,1000)"
   ]
  },
  {
   "cell_type": "code",
   "execution_count": 11,
   "id": "7d399839",
   "metadata": {},
   "outputs": [
    {
     "data": {
      "text/plain": [
       "6"
      ]
     },
     "execution_count": 11,
     "metadata": {},
     "output_type": "execute_result"
    }
   ],
   "source": [
    "len(list) # length of \"list\""
   ]
  },
  {
   "cell_type": "code",
   "execution_count": 13,
   "id": "20237867",
   "metadata": {},
   "outputs": [
    {
     "data": {
      "text/plain": [
       "25000"
      ]
     },
     "execution_count": 13,
     "metadata": {},
     "output_type": "execute_result"
    }
   ],
   "source": [
    "sum(list) #  içindeki herşeyi toplar."
   ]
  },
  {
   "cell_type": "code",
   "execution_count": 7,
   "id": "c3191af8",
   "metadata": {},
   "outputs": [],
   "source": [
    "ortalama = sum(list) / len(list)"
   ]
  },
  {
   "cell_type": "code",
   "execution_count": 8,
   "id": "178d42d8",
   "metadata": {},
   "outputs": [
    {
     "data": {
      "text/plain": [
       "4166.666666666667"
      ]
     },
     "execution_count": 8,
     "metadata": {},
     "output_type": "execute_result"
    }
   ],
   "source": [
    "ortalama"
   ]
  },
  {
   "cell_type": "code",
   "execution_count": 9,
   "id": "e0346c63",
   "metadata": {},
   "outputs": [
    {
     "data": {
      "text/plain": [
       "False"
      ]
     },
     "execution_count": 9,
     "metadata": {},
     "output_type": "execute_result"
    }
   ],
   "source": [
    "list[3] > ortalama"
   ]
  },
  {
   "cell_type": "code",
   "execution_count": 13,
   "id": "236a5e46",
   "metadata": {},
   "outputs": [
    {
     "name": "stdout",
     "output_type": "stream",
     "text": [
      "maaş bilginizi giriniz: 5000\n"
     ]
    }
   ],
   "source": [
    "kullaniciMaas = input(\"maaş bilginizi giriniz: \")"
   ]
  },
  {
   "cell_type": "code",
   "execution_count": 14,
   "id": "fd73c236",
   "metadata": {},
   "outputs": [],
   "source": [
    "kullaniciMaasInt = int(kullaniciMaas)"
   ]
  },
  {
   "cell_type": "code",
   "execution_count": 15,
   "id": "4bbaabce",
   "metadata": {},
   "outputs": [
    {
     "data": {
      "text/plain": [
       "True"
      ]
     },
     "execution_count": 15,
     "metadata": {},
     "output_type": "execute_result"
    }
   ],
   "source": [
    "kullaniciMaasInt > ortalama"
   ]
  },
  {
   "cell_type": "code",
   "execution_count": 6,
   "id": "3f12c7d1",
   "metadata": {},
   "outputs": [],
   "source": [
    "list2 = (1000,2000,3000,4000,5000)"
   ]
  },
  {
   "cell_type": "code",
   "execution_count": 9,
   "id": "e4faf08a",
   "metadata": {},
   "outputs": [],
   "source": [
    "ortalama2 = sum(list2) / len(list2)"
   ]
  },
  {
   "cell_type": "code",
   "execution_count": 10,
   "id": "fd6d8c54",
   "metadata": {},
   "outputs": [
    {
     "data": {
      "text/plain": [
       "True"
      ]
     },
     "execution_count": 10,
     "metadata": {},
     "output_type": "execute_result"
    }
   ],
   "source": [
    "list2[3] > ortalama2"
   ]
  },
  {
   "cell_type": "code",
   "execution_count": 11,
   "id": "3b1b185a",
   "metadata": {},
   "outputs": [
    {
     "data": {
      "text/plain": [
       "3000.0"
      ]
     },
     "execution_count": 11,
     "metadata": {},
     "output_type": "execute_result"
    }
   ],
   "source": [
    "ortalama2"
   ]
  },
  {
   "cell_type": "code",
   "execution_count": 13,
   "id": "6920708e",
   "metadata": {},
   "outputs": [
    {
     "name": "stdout",
     "output_type": "stream",
     "text": [
      "maaşınızı giriniz: 2000\n"
     ]
    }
   ],
   "source": [
    "kullaniciMaas2 = input(\"maaşınızı giriniz: \")"
   ]
  },
  {
   "cell_type": "code",
   "execution_count": 14,
   "id": "5fe60de5",
   "metadata": {},
   "outputs": [],
   "source": [
    "kullanıcıMaas2Int = int(kullaniciMaas2)"
   ]
  },
  {
   "cell_type": "code",
   "execution_count": 17,
   "id": "87cdd83d",
   "metadata": {},
   "outputs": [
    {
     "data": {
      "text/plain": [
       "False"
      ]
     },
     "execution_count": 17,
     "metadata": {},
     "output_type": "execute_result"
    }
   ],
   "source": [
    "kullanıcıMaas2Int > ortalama2"
   ]
  },
  {
   "cell_type": "code",
   "execution_count": 18,
   "id": "874ede42",
   "metadata": {},
   "outputs": [],
   "source": [
    "x = 10\n",
    "y = 8"
   ]
  },
  {
   "cell_type": "code",
   "execution_count": 19,
   "id": "eabf9298",
   "metadata": {},
   "outputs": [
    {
     "data": {
      "text/plain": [
       "True"
      ]
     },
     "execution_count": 19,
     "metadata": {},
     "output_type": "execute_result"
    }
   ],
   "source": [
    "x > y"
   ]
  },
  {
   "cell_type": "code",
   "execution_count": 20,
   "id": "15ff443c",
   "metadata": {},
   "outputs": [
    {
     "data": {
      "text/plain": [
       "False"
      ]
     },
     "execution_count": 20,
     "metadata": {},
     "output_type": "execute_result"
    }
   ],
   "source": [
    "x <y"
   ]
  },
  {
   "cell_type": "code",
   "execution_count": 21,
   "id": "55215d43",
   "metadata": {},
   "outputs": [
    {
     "data": {
      "text/plain": [
       "True"
      ]
     },
     "execution_count": 21,
     "metadata": {},
     "output_type": "execute_result"
    }
   ],
   "source": [
    "9 >= 9"
   ]
  },
  {
   "cell_type": "code",
   "execution_count": 22,
   "id": "241246b1",
   "metadata": {},
   "outputs": [
    {
     "data": {
      "text/plain": [
       "False"
      ]
     },
     "execution_count": 22,
     "metadata": {},
     "output_type": "execute_result"
    }
   ],
   "source": [
    "x == y # x, y'ye eşit mi?"
   ]
  },
  {
   "cell_type": "code",
   "execution_count": 24,
   "id": "13436384",
   "metadata": {},
   "outputs": [
    {
     "data": {
      "text/plain": [
       "True"
      ]
     },
     "execution_count": 24,
     "metadata": {},
     "output_type": "execute_result"
    }
   ],
   "source": [
    "x != y #x, y'ye eşit değil mi?"
   ]
  },
  {
   "cell_type": "code",
   "execution_count": 1,
   "id": "7fa77abd",
   "metadata": {},
   "outputs": [
    {
     "data": {
      "text/plain": [
       "True"
      ]
     },
     "execution_count": 1,
     "metadata": {},
     "output_type": "execute_result"
    }
   ],
   "source": [
    " 3 > 1 and 3 >2 # true"
   ]
  },
  {
   "cell_type": "code",
   "execution_count": 2,
   "id": "10985234",
   "metadata": {},
   "outputs": [
    {
     "data": {
      "text/plain": [
       "False"
      ]
     },
     "execution_count": 2,
     "metadata": {},
     "output_type": "execute_result"
    }
   ],
   "source": [
    "1 >3 and 3 >1 # false"
   ]
  },
  {
   "cell_type": "code",
   "execution_count": 3,
   "id": "f1b5c55e",
   "metadata": {},
   "outputs": [
    {
     "data": {
      "text/plain": [
       "True"
      ]
     },
     "execution_count": 3,
     "metadata": {},
     "output_type": "execute_result"
    }
   ],
   "source": [
    "1 > 3 or 3 > 2"
   ]
  },
  {
   "cell_type": "code",
   "execution_count": 4,
   "id": "372fb959",
   "metadata": {},
   "outputs": [
    {
     "data": {
      "text/plain": [
       "False"
      ]
     },
     "execution_count": 4,
     "metadata": {},
     "output_type": "execute_result"
    }
   ],
   "source": [
    "not 5 == 5"
   ]
  },
  {
   "cell_type": "code",
   "execution_count": 5,
   "id": "914a70c6",
   "metadata": {},
   "outputs": [
    {
     "data": {
      "text/plain": [
       "False"
      ]
     },
     "execution_count": 5,
     "metadata": {},
     "output_type": "execute_result"
    }
   ],
   "source": [
    "5  == 4"
   ]
  },
  {
   "cell_type": "code",
   "execution_count": 6,
   "id": "9b232df6",
   "metadata": {},
   "outputs": [
    {
     "data": {
      "text/plain": [
       "True"
      ]
     },
     "execution_count": 6,
     "metadata": {},
     "output_type": "execute_result"
    }
   ],
   "source": [
    "5 == 5"
   ]
  },
  {
   "cell_type": "code",
   "execution_count": null,
   "id": "a3028bbf",
   "metadata": {},
   "outputs": [],
   "source": []
  }
 ],
 "metadata": {
  "kernelspec": {
   "display_name": "Python 3 (ipykernel)",
   "language": "python",
   "name": "python3"
  },
  "language_info": {
   "codemirror_mode": {
    "name": "ipython",
    "version": 3
   },
   "file_extension": ".py",
   "mimetype": "text/x-python",
   "name": "python",
   "nbconvert_exporter": "python",
   "pygments_lexer": "ipython3",
   "version": "3.9.12"
  }
 },
 "nbformat": 4,
 "nbformat_minor": 5
}
